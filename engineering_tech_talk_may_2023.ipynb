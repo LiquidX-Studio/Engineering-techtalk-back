{
 "cells": [
  {
   "cell_type": "markdown",
   "metadata": {
    "slideshow": {
     "slide_type": "slide"
    }
   },
   "source": [
    "# Tech Talk\n",
    "## LiquidX Studio\n",
    "## May 2023"
   ]
  },
  {
   "cell_type": "markdown",
   "metadata": {
    "slideshow": {
     "slide_type": "slide"
    }
   },
   "source": [
    "# Agenda\n",
    "- PKM - building a second brain!\n",
    "- LiquidX org and engineering updates\n",
    "- Career at LiquidX\n",
    "- LiquidX Engineering\n",
    "- Q&A"
   ]
  },
  {
   "cell_type": "markdown",
   "metadata": {
    "slideshow": {
     "slide_type": "slide"
    }
   },
   "source": [
    "# Building a second brain\n",
    "- Living with information overload\n",
    "    - Information is cheap and abundant\n",
    "    - Information is also redundant and untrue\n",
    "- What it all means for us\n",
    "    - We need a method to collect, distill, and later use key pieces"
   ]
  },
  {
   "cell_type": "markdown",
   "metadata": {
    "slideshow": {
     "slide_type": "slide"
    }
   },
   "source": [
    "## Building a second brain\n",
    "![Code|200](./img/CODE_pkm.png)\n",
    "- C - Capture what resonates with you - books, meetings, ...\n",
    "- O - Organize your notes in one place\n",
    "- D - Distill so that you can quickly find what you need\n",
    "- E - Express your ideas in your - writing, coding, etc."
   ]
  },
  {
   "cell_type": "markdown",
   "metadata": {
    "slideshow": {
     "slide_type": "slide"
    }
   },
   "source": [
    "# Personal Knowledge Management\n",
    "## Helpful book\n",
    "- [Building a second brain](https://fortelabs.com/blog/basboverview/)\n",
    "## Tools\n",
    "- [Obsidian](https://obsidian.md)\n",
    "- [Notion](https://notion.so)\n",
    "- [Guide for choosing the right pkm tool](https://www.buildingasecondbrain.com/resources)"
   ]
  },
  {
   "cell_type": "markdown",
   "metadata": {
    "slideshow": {
     "slide_type": "slide"
    }
   },
   "source": [
    "# Personal Knowledge Management\n",
    "## Obsidian Demo"
   ]
  },
  {
   "cell_type": "markdown",
   "metadata": {
    "slideshow": {
     "slide_type": "slide"
    }
   },
   "source": [
    "# LiquidX Org Updates\n",
    "- AM received 40M funding\n",
    "- Great performance of Pixelmon collection on opensea\n",
    "- Pixelmon\n",
    "    - In-house game development\n",
    "    - Additional fundraising is ongoing\n",
    "- New acquisitions and investments\n",
    "    - AI-based EdTech - Kaya Toast"
   ]
  },
  {
   "cell_type": "markdown",
   "metadata": {
    "slideshow": {
     "slide_type": "slide"
    }
   },
   "source": [
    "# Kaya-Toast Demo\n",
    "- by Amjad"
   ]
  },
  {
   "cell_type": "markdown",
   "metadata": {
    "slideshow": {
     "slide_type": "slide"
    }
   },
   "source": [
    "# Career at LiquidX\n",
    "- You should have received your updated levels\n",
    "- Review the career ladder - level requirements\n",
    "    - Your evaluation happens at the level you are in"
   ]
  },
  {
   "cell_type": "markdown",
   "metadata": {
    "slideshow": {
     "slide_type": "slide"
    }
   },
   "source": [
    "# Career at LiquidX\n",
    "- Yearly increment to address inflation\n",
    "    - Must have completed or close to 1 Yr\n",
    "    - Range is `4%-6%` based on HR research\n",
    "    - Not every LiquidX team receives this"
   ]
  },
  {
   "cell_type": "markdown",
   "metadata": {
    "slideshow": {
     "slide_type": "slide"
    }
   },
   "source": [
    "# Career at LiquidX\n",
    "![Performance_levels](./img/Performance_levels.png)\n",
    "- Required to perform at a level *higher* than the current title\n",
    "- Range is `7%-20%` based on HR research\n",
    "    - Current salary, current average compensation outside\n",
    "- All increments/promotions require *budget approval*"
   ]
  },
  {
   "cell_type": "markdown",
   "metadata": {
    "slideshow": {
     "slide_type": "slide"
    }
   },
   "source": [
    "# Career vs. Job\n",
    "- Compensation\n",
    "- Work-life balance\n",
    "- Current tech job direction\n",
    "- Growth opportunities\n",
    "- Study the career matrix\n",
    "    - What is expected of you at your level\n",
    "    - What you need to achieve to get a promotion"
   ]
  },
  {
   "cell_type": "markdown",
   "metadata": {
    "slideshow": {
     "slide_type": "slide"
    }
   },
   "source": [
    "# LiquidX engineering\n",
    "- Product milestones\n",
    "- Full-stack engineering and ownership of the QA process\n",
    "    - Engineers would own both BE and FE\n",
    "    - Lead developer will help with the design and build platform/common services\n",
    "    - We will assign complete features to devs\n",
    "- Going serverless\n",
    "    -  Use lambda instead of worker services\n",
    "- Simplified infrastructure\n",
    "    - Current infrastructure is for large orgs\n",
    "    - Moving away from K8s\n",
    "    - Simplified CI/CD pipeline"
   ]
  },
  {
   "cell_type": "markdown",
   "metadata": {
    "slideshow": {
     "slide_type": "slide"
    }
   },
   "source": [
    "# Q&A\n",
    "![watson](./img/Watson_defeats_Ken.png)"
   ]
  },
  {
   "cell_type": "code",
   "execution_count": null,
   "metadata": {
    "ExecuteTime": {
     "end_time": "2023-05-18T00:03:23.672247Z",
     "start_time": "2023-05-18T00:03:23.667806Z"
    },
    "slideshow": {
     "slide_type": "skip"
    }
   },
   "outputs": [],
   "source": []
  },
  {
   "cell_type": "code",
   "execution_count": null,
   "metadata": {
    "ExecuteTime": {
     "end_time": "2023-05-15T01:20:41.420713Z",
     "start_time": "2023-05-15T01:20:41.413167Z"
    },
    "slideshow": {
     "slide_type": "skip"
    }
   },
   "outputs": [],
   "source": []
  }
 ],
 "metadata": {
  "celltoolbar": "Slideshow",
  "kernelspec": {
   "display_name": "Python 3 (ipykernel)",
   "language": "python",
   "name": "python3"
  },
  "language_info": {
   "codemirror_mode": {
    "name": "ipython",
    "version": 3
   },
   "file_extension": ".py",
   "mimetype": "text/x-python",
   "name": "python",
   "nbconvert_exporter": "python",
   "pygments_lexer": "ipython3",
   "version": "3.10.9"
  }
 },
 "nbformat": 4,
 "nbformat_minor": 1
}
