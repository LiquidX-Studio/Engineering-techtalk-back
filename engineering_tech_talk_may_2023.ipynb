{
 "cells": [
  {
   "cell_type": "markdown",
   "metadata": {
    "slideshow": {
     "slide_type": "slide"
    }
   },
   "source": [
    "# Tech Talk\n",
    "## LiquidX Studio\n",
    "## May 2023"
   ]
  },
  {
   "cell_type": "markdown",
   "metadata": {
    "slideshow": {
     "slide_type": "slide"
    }
   },
   "source": [
    "# Agenda\n",
    "- Building a second brain\n",
    "- Direction of our company\n",
    "- Career path\n",
    "- Q&A"
   ]
  },
  {
   "cell_type": "markdown",
   "metadata": {
    "slideshow": {
     "slide_type": "slide"
    }
   },
   "source": [
    "# Building a second brain\n",
    "- Living with information overload\n",
    "    - Information is cheap and abundant\n",
    "    - Information is also redundant and untrue\n",
    "- What it all means for us\n",
    "    - We need a method to collect, distill, and later use key pieces"
   ]
  },
  {
   "cell_type": "markdown",
   "metadata": {
    "slideshow": {
     "slide_type": "slide"
    }
   },
   "source": [
    "# Building a second brain\n",
    "- Recent research work may help you become better at your job!\n",
    "## CODE\n",
    "![Code|200](./img/CODE_process_of_pkm.png)\n",
    "### C - Capture\n",
    "- Capture what resonates with you - books, meetings, ...\n",
    "### O - Organize\n",
    "Organize your notes in one place\n",
    "### D - Distill\n",
    "Distill so that you can quickly find what you need\n",
    "### E\n",
    "Express your ideas in your - writing, coding, etc.\n"
   ]
  },
  {
   "cell_type": "markdown",
   "metadata": {
    "slideshow": {
     "slide_type": "slide"
    }
   },
   "source": [
    "# PKM\n",
    "## Personal Knowledge Management\n",
    "- [Building a second brain](https://fortelabs.com/blog/basboverview/)\n",
    "## Tools\n",
    "- [Obsidian](https://obsidian.md)\n",
    "- [Notion](https://notion.so)\n",
    "- [Guide to choose the right note-taking tool](https://www.buildingasecondbrain.com/resources)"
   ]
  },
  {
   "cell_type": "markdown",
   "metadata": {
    "slideshow": {
     "slide_type": "slide"
    }
   },
   "source": [
    "# LiquidX Org Updates\n",
    "- AM received 40M funding\n",
    "- Great performance of Pixelmon collection on opensea\n",
    "- Pixelmon\n",
    "    - In-house game development\n",
    "    - Additional fundraising\n",
    "- New acquisitions and investments\n",
    "    - AI-based EdTech - Kaya Toast"
   ]
  },
  {
   "cell_type": "markdown",
   "metadata": {
    "slideshow": {
     "slide_type": "slide"
    }
   },
   "source": [
    "# LiquidX career\n",
    "## Promotion and increment process\n",
    "- Yearly increment to address inflation\n",
    "    - Must have completed or close to 1 Yr\n",
    "    - Range is `4%-6%` based on HR research\n",
    "    - Not every team receives this\n",
    "- Promotions\n",
    "![Performance_levels](./img/Performance_levels.png)\n",
    "    - Required to perform at a level *higher* than the current title\n",
    "    - Range is `7%-15%` based on HR research\n",
    "        - Current salary\n",
    "        - Market rate at the experience level\n",
    "- All increments/promotions require *budget approval*\n"
   ]
  },
  {
   "cell_type": "markdown",
   "metadata": {
    "slideshow": {
     "slide_type": "slide"
    }
   },
   "source": [
    "# LiquidX career\n",
    "## Think of your career holistically\n",
    "- Compensation\n",
    "- Work\n",
    "- Current tech job direction\n",
    "- Growth opportunities\n",
    "- Study the career matrix\n",
    "    - Your level/requirement\n",
    "    - What is expected of you\n",
    "    - What you need to achieve to get a promotion"
   ]
  },
  {
   "cell_type": "markdown",
   "metadata": {
    "slideshow": {
     "slide_type": "slide"
    }
   },
   "source": [
    "# Q&A\n",
    "![watson](./img/Watson_defeats_Ken.png)"
   ]
  },
  {
   "cell_type": "code",
   "execution_count": null,
   "metadata": {
    "slideshow": {
     "slide_type": "skip"
    },
    "ExecuteTime": {
     "end_time": "2023-05-15T01:20:41.420377Z",
     "start_time": "2023-05-15T01:20:41.405127Z"
    }
   },
   "outputs": [],
   "source": []
  },
  {
   "cell_type": "code",
   "execution_count": null,
   "metadata": {
    "slideshow": {
     "slide_type": "skip"
    },
    "ExecuteTime": {
     "end_time": "2023-05-15T01:20:41.420713Z",
     "start_time": "2023-05-15T01:20:41.413167Z"
    }
   },
   "outputs": [],
   "source": []
  }
 ],
 "metadata": {
  "celltoolbar": "Slideshow",
  "kernelspec": {
   "display_name": "Python 3 (ipykernel)",
   "language": "python",
   "name": "python3"
  },
  "language_info": {
   "codemirror_mode": {
    "name": "ipython",
    "version": 3
   },
   "file_extension": ".py",
   "mimetype": "text/x-python",
   "name": "python",
   "nbconvert_exporter": "python",
   "pygments_lexer": "ipython3",
   "version": "3.10.9"
  }
 },
 "nbformat": 4,
 "nbformat_minor": 1
}
